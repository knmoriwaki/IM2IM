{
 "cells": [
  {
   "cell_type": "code",
   "execution_count": null,
   "id": "f05a943d",
   "metadata": {},
   "outputs": [],
   "source": [
    "import os\n",
    "import pandas as pd\n",
    "import numpy as np\n",
    "%matplotlib inline\n",
    "import matplotlib.pyplot as plt\n",
    "from astropy.io import fits\n",
    "from xai import read_data, read_shuffled_data, compare_exp_testset\n",
    "from xai import plot_shuffled_map, plot_r_single_sample, plot_all_r_vs_k\n",
    "from correlation_coefficient import compute_power"
   ]
  },
  {
   "cell_type": "code",
   "execution_count": null,
   "id": "6e1483ee",
   "metadata": {},
   "outputs": [],
   "source": [
    "base_output_dir = \"../output/\" # Meanwhile I have my own output directory with GAN results\n",
    "names = ['test', 'xai_exp_only_using_random', \n",
    "         'xai_exp_only_using_random_ha', 'xai_exp_only_using_random_oiii' ]\n",
    "results_dir = \"../output/xai_results/\"\n",
    "model = f\"pix2pix_2_bs4_ep1_lambda1000_vanilla\"\n",
    "nrun = 100\n",
    "nindex = 1\n",
    "suffix_list = [ \"run{:d}_index{:d}\".format(i, j) for i in range(nrun) for j in range(nindex) ]\n",
    "ref_dir = os.path.join(base_output_dir, names[0])\n",
    "exp1_dir = os.path.join(base_output_dir, names[1])\n",
    "exp2_dir = os.path.join(base_output_dir, names[2])\n",
    "exp3_dir = os.path.join(base_output_dir, names[3])"
   ]
  },
  {
   "cell_type": "code",
   "execution_count": null,
   "id": "99098f9f",
   "metadata": {},
   "outputs": [],
   "source": [
    "df = read_shuffled_data(exp1_dir)"
   ]
  },
  {
   "cell_type": "code",
   "execution_count": null,
   "id": "1a77777e",
   "metadata": {},
   "outputs": [],
   "source": [
    "def plot_power_spectra(p_ha, p_oiii):\n",
    "    p_ha[0:6] = 0\n",
    "    p_oiii[0:6] = 0\n",
    "    \n",
    "    plt.figure(figsize=(10, 6))\n",
    "    # power spectra\n",
    "    plt.xscale(\"log\")\n",
    "    plt.yscale(\"log\")\n",
    "    plt.xlim([0.02, 20])\n",
    "    labels = [ \"Ha\", \"OIII\" ]\n",
    "    snames = [ \"z1.3_ha\", \"z2.0_oiii\" ]\n",
    "    for i, sname in enumerate(snames):\n",
    "        fname = f\"/mnt/data_cat4/moriwaki/IM2IM/calculation/output/ps_{sname}_{model}.txt\"\n",
    "        data = np.loadtxt(fname)\n",
    "        k = data[:,0]\n",
    "        true = data[:,1]\n",
    "        s_true = data[:,2]\n",
    "        pred = data[:,3]\n",
    "        s_pred = data[:,4]\n",
    "\n",
    "        plt.plot(k, true, label=f\"true {labels[i]}\")\n",
    "        plt.fill_between(k, true+s_true, true-s_true)\n",
    "        plt.errorbar(k, pred, s_pred, fmt=\".\", label=f\"pred {labels[i]}\")\n",
    "    plt.plot(k, p_ha, 'b', linestyle=':', label='sample Ha')\n",
    "    plt.plot(k, p_oiii, 'orange', linestyle=':', label='sample OIII')\n",
    "    plt.legend()"
   ]
  },
  {
   "cell_type": "code",
   "execution_count": null,
   "id": "63e5e72e",
   "metadata": {},
   "outputs": [],
   "source": [
    "log_bins=True\n",
    "nbins = 30\n",
    "boxlength= 102.4\n",
    "c = 1\n",
    "print(df.columns[c])\n",
    "image1 = df[df.columns[c]].values[0]\n",
    "P1, k, _ = compute_power(image1, boxlength=boxlength, nbins=nbins, log_bins=log_bins)\n",
    "P1 = 2.0*np.pi*P1*k[:-1]*k[:-1]\n",
    "c = 2\n",
    "image2 = df[df.columns[c]].values[0]\n",
    "P2, k, _ = compute_power(image2, boxlength=boxlength, nbins=nbins, log_bins=log_bins)\n",
    "P2 = 2.0*np.pi*P1*k[:-1]*k[:-1]"
   ]
  },
  {
   "cell_type": "code",
   "execution_count": null,
   "id": "53b961cd",
   "metadata": {},
   "outputs": [],
   "source": [
    "plot_power_spectra(P1, P2)"
   ]
  },
  {
   "cell_type": "code",
   "execution_count": null,
   "id": "f2883d33",
   "metadata": {},
   "outputs": [],
   "source": [
    "nbins=10\n",
    "r_mix_list, r_ha_list, r_oiii_list = compare_exp_testset(ref_dir, exp1_dir, nbins=nbins, log_bins=True)\n",
    "plot_all_r_vs_k(r_mix_list, results_dir, title=\"Comparison of reconstructed mixed signals\")"
   ]
  },
  {
   "cell_type": "code",
   "execution_count": null,
   "id": "75240d53",
   "metadata": {},
   "outputs": [],
   "source": [
    "r_mix_list, r_ha_list, r_oiii_list = compare_exp_testset(ref_dir, exp2_dir, nbins=nbins, log_bins=True)\n",
    "plot_all_r_vs_k(r_oiii_list, results_dir, title=\"Comparison of reconstructed OIII signals\")"
   ]
  },
  {
   "cell_type": "code",
   "execution_count": null,
   "id": "fb10978b",
   "metadata": {},
   "outputs": [],
   "source": [
    "r_mix_list, r_ha_list, r_oiii_list = compare_exp_testset(ref_dir, exp2_dir, nbins=nbins, log_bins=True)\n",
    "plot_all_r_vs_k(r_oiii_list, results_dir, title=\"Comparison of reconstructed Halpha signals\")"
   ]
  },
  {
   "cell_type": "code",
   "execution_count": null,
   "id": "0375f133",
   "metadata": {},
   "outputs": [],
   "source": [
    "suffix=f\"run3_index0\"\n",
    "df = read_shuffled_data(exp1_dir, suffix=suffix)\n",
    "plot_shuffled_map(df, results_dir)\n",
    "data_exp1 = read_data(exp1_dir, suffix=suffix, ldict=True)\n",
    "plot_r_single_sample(data_exp1, suffix, log_bins=True)"
   ]
  },
  {
   "cell_type": "code",
   "execution_count": null,
   "id": "784bf485",
   "metadata": {},
   "outputs": [],
   "source": [
    "df = read_shuffled_data(exp2_dir, suffix=suffix)\n",
    "plot_shuffled_map(df, results_dir)\n",
    "data_exp2 = read_data(exp2_dir, suffix=suffix, ldict=True)\n",
    "plot_r_single_sample(data_exp2, suffix, log_bins=True)"
   ]
  },
  {
   "cell_type": "code",
   "execution_count": null,
   "id": "8990d558",
   "metadata": {},
   "outputs": [],
   "source": [
    "df = read_shuffled_data(exp3_dir, suffix=suffix)\n",
    "plot_shuffled_map(df, results_dir)\n",
    "data_exp3 = read_data(exp3_dir, suffix=suffix, ldict=True)\n",
    "plot_r_single_sample(data_exp3, suffix, log_bins=True)"
   ]
  },
  {
   "cell_type": "code",
   "execution_count": null,
   "id": "2beec73b",
   "metadata": {},
   "outputs": [],
   "source": []
  }
 ],
 "metadata": {
  "kernelspec": {
   "display_name": "Python 3",
   "language": "python",
   "name": "python3"
  },
  "language_info": {
   "codemirror_mode": {
    "name": "ipython",
    "version": 3
   },
   "file_extension": ".py",
   "mimetype": "text/x-python",
   "name": "python",
   "nbconvert_exporter": "python",
   "pygments_lexer": "ipython3",
   "version": "3.6.5"
  }
 },
 "nbformat": 4,
 "nbformat_minor": 5
}
