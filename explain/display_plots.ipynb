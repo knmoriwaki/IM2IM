{
 "cells": [
  {
   "cell_type": "code",
   "execution_count": 12,
   "id": "738ce4b3",
   "metadata": {},
   "outputs": [],
   "source": [
    "import os\n",
    "from IPython.display import HTML"
   ]
  },
  {
   "cell_type": "code",
   "execution_count": 10,
   "id": "6e1483ee",
   "metadata": {},
   "outputs": [],
   "source": [
    "#base_dir = os.getcwd()\n",
    "xai_res_dir = 'xai_results'\n",
    "exp_names = ['xai_exp_ha', 'xai_exp_oiii','xai_exp_faint_ha',\n",
    "             'xai_exp_random','xai_exp_random_ha','xai_exp_random_oiii',\n",
    "             'xai_exp_occlusion']"
   ]
  },
  {
   "cell_type": "code",
   "execution_count": 24,
   "id": "9e927980",
   "metadata": {},
   "outputs": [],
   "source": [
    "def show_exp_html(xai_dir, exp_name):\n",
    "    css_code = \"\"\"\n",
    "                <style>\n",
    "                .output {\n",
    "                    overflow: visible !important;\n",
    "                }\n",
    "                </style>\n",
    "                \"\"\"\n",
    "    # Path to the directory containing the images\n",
    "    image_dir = os.path.join(xai_dir, exp_name)\n",
    "    # Get a list of image filenames in the directory\n",
    "    image_files = os.listdir(image_dir)\n",
    "    display(HTML(css_code))\n",
    "    for filename in image_files:\n",
    "        # Generate the HTML code for each image\n",
    "        html_code = f'<img src=\"{os.path.join(image_dir, filename)}\" alt=\"{exp_name}\">'\n",
    "\n",
    "        # Display the HTML code\n",
    "        display(HTML(html_code))"
   ]
  },
  {
   "cell_type": "code",
   "execution_count": 25,
   "id": "0dfe8f54",
   "metadata": {},
   "outputs": [
    {
     "data": {
      "text/html": [
       "\n",
       "                <style>\n",
       "                .output {\n",
       "                    overflow: visible !important;\n",
       "                }\n",
       "                </style>\n",
       "                "
      ],
      "text/plain": [
       "<IPython.core.display.HTML object>"
      ]
     },
     "metadata": {},
     "output_type": "display_data"
    },
    {
     "data": {
      "text/html": [
       "<img src=\"xai_results/xai_exp_ha/compare_expcomparison_of_reconstructed_oiii_signals.png\" alt=\"xai_exp_ha\">"
      ],
      "text/plain": [
       "<IPython.core.display.HTML object>"
      ]
     },
     "metadata": {},
     "output_type": "display_data"
    },
    {
     "data": {
      "text/html": [
       "<img src=\"xai_results/xai_exp_ha/compare_expcomparison_of_reconstructed_ha_signals.png\" alt=\"xai_exp_ha\">"
      ],
      "text/plain": [
       "<IPython.core.display.HTML object>"
      ]
     },
     "metadata": {},
     "output_type": "display_data"
    },
    {
     "data": {
      "text/html": [
       "<img src=\"xai_results/xai_exp_ha/xai_exp_ha_run98_index0_image.png\" alt=\"xai_exp_ha\">"
      ],
      "text/plain": [
       "<IPython.core.display.HTML object>"
      ]
     },
     "metadata": {},
     "output_type": "display_data"
    },
    {
     "data": {
      "text/html": [
       "<img src=\"xai_results/xai_exp_ha/compare_expcomparison_of_reconstructed_mixed_signals.png\" alt=\"xai_exp_ha\">"
      ],
      "text/plain": [
       "<IPython.core.display.HTML object>"
      ]
     },
     "metadata": {},
     "output_type": "display_data"
    },
    {
     "data": {
      "text/html": [
       "<img src=\"xai_results/xai_exp_ha/r_single_sample_run98_index0.png\" alt=\"xai_exp_ha\">"
      ],
      "text/plain": [
       "<IPython.core.display.HTML object>"
      ]
     },
     "metadata": {},
     "output_type": "display_data"
    }
   ],
   "source": [
    "show_exp_html(xai_res_dir, exp_names[0])"
   ]
  },
  {
   "cell_type": "code",
   "execution_count": 22,
   "id": "50045ec8",
   "metadata": {},
   "outputs": [
    {
     "data": {
      "text/html": [
       "<img src=\"xai_results/xai_exp_oiii/compare_expcomparison_of_reconstructed_oiii_signals.png\" alt=\"xai_exp_oiii\">"
      ],
      "text/plain": [
       "<IPython.core.display.HTML object>"
      ]
     },
     "metadata": {},
     "output_type": "display_data"
    },
    {
     "data": {
      "text/html": [
       "<img src=\"xai_results/xai_exp_oiii/xai_exp_oiii_run70_index0_image.png\" alt=\"xai_exp_oiii\">"
      ],
      "text/plain": [
       "<IPython.core.display.HTML object>"
      ]
     },
     "metadata": {},
     "output_type": "display_data"
    },
    {
     "data": {
      "text/html": [
       "<img src=\"xai_results/xai_exp_oiii/compare_expcomparison_of_reconstructed_ha_signals.png\" alt=\"xai_exp_oiii\">"
      ],
      "text/plain": [
       "<IPython.core.display.HTML object>"
      ]
     },
     "metadata": {},
     "output_type": "display_data"
    },
    {
     "data": {
      "text/html": [
       "<img src=\"xai_results/xai_exp_oiii/compare_expcomparison_of_reconstructed_mixed_signals.png\" alt=\"xai_exp_oiii\">"
      ],
      "text/plain": [
       "<IPython.core.display.HTML object>"
      ]
     },
     "metadata": {},
     "output_type": "display_data"
    },
    {
     "data": {
      "text/html": [
       "<img src=\"xai_results/xai_exp_oiii/r_single_sample_run70_index0.png\" alt=\"xai_exp_oiii\">"
      ],
      "text/plain": [
       "<IPython.core.display.HTML object>"
      ]
     },
     "metadata": {},
     "output_type": "display_data"
    }
   ],
   "source": [
    "show_exp_html(xai_res_dir, exp_names[1])"
   ]
  },
  {
   "cell_type": "code",
   "execution_count": 26,
   "id": "7bb1dd29",
   "metadata": {},
   "outputs": [
    {
     "data": {
      "text/html": [
       "\n",
       "                <style>\n",
       "                .output {\n",
       "                    overflow: visible !important;\n",
       "                }\n",
       "                </style>\n",
       "                "
      ],
      "text/plain": [
       "<IPython.core.display.HTML object>"
      ]
     },
     "metadata": {},
     "output_type": "display_data"
    },
    {
     "data": {
      "text/html": [
       "<img src=\"xai_results/xai_exp_random/compare_expcomparison_of_reconstructed_oiii_signals.png\" alt=\"xai_exp_random\">"
      ],
      "text/plain": [
       "<IPython.core.display.HTML object>"
      ]
     },
     "metadata": {},
     "output_type": "display_data"
    },
    {
     "data": {
      "text/html": [
       "<img src=\"xai_results/xai_exp_random/compare_expcomparison_of_reconstructed_ha_signals.png\" alt=\"xai_exp_random\">"
      ],
      "text/plain": [
       "<IPython.core.display.HTML object>"
      ]
     },
     "metadata": {},
     "output_type": "display_data"
    },
    {
     "data": {
      "text/html": [
       "<img src=\"xai_results/xai_exp_random/compare_expcomparison_of_reconstructed_mixed_signals.png\" alt=\"xai_exp_random\">"
      ],
      "text/plain": [
       "<IPython.core.display.HTML object>"
      ]
     },
     "metadata": {},
     "output_type": "display_data"
    },
    {
     "data": {
      "text/html": [
       "<img src=\"xai_results/xai_exp_random/r_single_sample_run96_index0.png\" alt=\"xai_exp_random\">"
      ],
      "text/plain": [
       "<IPython.core.display.HTML object>"
      ]
     },
     "metadata": {},
     "output_type": "display_data"
    },
    {
     "data": {
      "text/html": [
       "<img src=\"xai_results/xai_exp_random/xai_exp_random_run96_index0_image.png\" alt=\"xai_exp_random\">"
      ],
      "text/plain": [
       "<IPython.core.display.HTML object>"
      ]
     },
     "metadata": {},
     "output_type": "display_data"
    }
   ],
   "source": [
    "show_exp_html(xai_res_dir, exp_names[3])"
   ]
  },
  {
   "cell_type": "code",
   "execution_count": 27,
   "id": "ddc1eb33",
   "metadata": {},
   "outputs": [
    {
     "data": {
      "text/html": [
       "\n",
       "                <style>\n",
       "                .output {\n",
       "                    overflow: visible !important;\n",
       "                }\n",
       "                </style>\n",
       "                "
      ],
      "text/plain": [
       "<IPython.core.display.HTML object>"
      ]
     },
     "metadata": {},
     "output_type": "display_data"
    },
    {
     "data": {
      "text/html": [
       "<img src=\"xai_results/xai_exp_random_ha/compare_expcomparison_of_reconstructed_oiii_signals.png\" alt=\"xai_exp_random_ha\">"
      ],
      "text/plain": [
       "<IPython.core.display.HTML object>"
      ]
     },
     "metadata": {},
     "output_type": "display_data"
    },
    {
     "data": {
      "text/html": [
       "<img src=\"xai_results/xai_exp_random_ha/compare_expcomparison_of_reconstructed_ha_signals.png\" alt=\"xai_exp_random_ha\">"
      ],
      "text/plain": [
       "<IPython.core.display.HTML object>"
      ]
     },
     "metadata": {},
     "output_type": "display_data"
    },
    {
     "data": {
      "text/html": [
       "<img src=\"xai_results/xai_exp_random_ha/compare_expcomparison_of_reconstructed_mixed_signals.png\" alt=\"xai_exp_random_ha\">"
      ],
      "text/plain": [
       "<IPython.core.display.HTML object>"
      ]
     },
     "metadata": {},
     "output_type": "display_data"
    },
    {
     "data": {
      "text/html": [
       "<img src=\"xai_results/xai_exp_random_ha/r_single_sample_run31_index0.png\" alt=\"xai_exp_random_ha\">"
      ],
      "text/plain": [
       "<IPython.core.display.HTML object>"
      ]
     },
     "metadata": {},
     "output_type": "display_data"
    },
    {
     "data": {
      "text/html": [
       "<img src=\"xai_results/xai_exp_random_ha/xai_exp_random_ha_run31_index0_image.png\" alt=\"xai_exp_random_ha\">"
      ],
      "text/plain": [
       "<IPython.core.display.HTML object>"
      ]
     },
     "metadata": {},
     "output_type": "display_data"
    }
   ],
   "source": [
    "show_exp_html(xai_res_dir, exp_names[4])"
   ]
  },
  {
   "cell_type": "code",
   "execution_count": 28,
   "id": "fc8c8a7c",
   "metadata": {},
   "outputs": [
    {
     "data": {
      "text/html": [
       "\n",
       "                <style>\n",
       "                .output {\n",
       "                    overflow: visible !important;\n",
       "                }\n",
       "                </style>\n",
       "                "
      ],
      "text/plain": [
       "<IPython.core.display.HTML object>"
      ]
     },
     "metadata": {},
     "output_type": "display_data"
    },
    {
     "data": {
      "text/html": [
       "<img src=\"xai_results/xai_exp_random_oiii/compare_expcomparison_of_reconstructed_oiii_signals.png\" alt=\"xai_exp_random_oiii\">"
      ],
      "text/plain": [
       "<IPython.core.display.HTML object>"
      ]
     },
     "metadata": {},
     "output_type": "display_data"
    },
    {
     "data": {
      "text/html": [
       "<img src=\"xai_results/xai_exp_random_oiii/compare_expcomparison_of_reconstructed_ha_signals.png\" alt=\"xai_exp_random_oiii\">"
      ],
      "text/plain": [
       "<IPython.core.display.HTML object>"
      ]
     },
     "metadata": {},
     "output_type": "display_data"
    },
    {
     "data": {
      "text/html": [
       "<img src=\"xai_results/xai_exp_random_oiii/compare_expcomparison_of_reconstructed_mixed_signals.png\" alt=\"xai_exp_random_oiii\">"
      ],
      "text/plain": [
       "<IPython.core.display.HTML object>"
      ]
     },
     "metadata": {},
     "output_type": "display_data"
    },
    {
     "data": {
      "text/html": [
       "<img src=\"xai_results/xai_exp_random_oiii/r_single_sample_run54_index0.png\" alt=\"xai_exp_random_oiii\">"
      ],
      "text/plain": [
       "<IPython.core.display.HTML object>"
      ]
     },
     "metadata": {},
     "output_type": "display_data"
    },
    {
     "data": {
      "text/html": [
       "<img src=\"xai_results/xai_exp_random_oiii/xai_exp_random_oiii_run54_index0_image.png\" alt=\"xai_exp_random_oiii\">"
      ],
      "text/plain": [
       "<IPython.core.display.HTML object>"
      ]
     },
     "metadata": {},
     "output_type": "display_data"
    }
   ],
   "source": [
    "show_exp_html(xai_res_dir, exp_names[5])"
   ]
  },
  {
   "cell_type": "code",
   "execution_count": 29,
   "id": "3e4739d0",
   "metadata": {},
   "outputs": [
    {
     "data": {
      "text/html": [
       "\n",
       "                <style>\n",
       "                .output {\n",
       "                    overflow: visible !important;\n",
       "                }\n",
       "                </style>\n",
       "                "
      ],
      "text/plain": [
       "<IPython.core.display.HTML object>"
      ]
     },
     "metadata": {},
     "output_type": "display_data"
    },
    {
     "data": {
      "text/html": [
       "<img src=\"xai_results/xai_exp_occlusion/xai_exp_occlusion_run92_index0_occluded10_image.png\" alt=\"xai_exp_occlusion\">"
      ],
      "text/plain": [
       "<IPython.core.display.HTML object>"
      ]
     },
     "metadata": {},
     "output_type": "display_data"
    },
    {
     "data": {
      "text/html": [
       "<img src=\"xai_results/xai_exp_occlusion/xai_exp_occlusion_run92_index0_occluded8_image.png\" alt=\"xai_exp_occlusion\">"
      ],
      "text/plain": [
       "<IPython.core.display.HTML object>"
      ]
     },
     "metadata": {},
     "output_type": "display_data"
    },
    {
     "data": {
      "text/html": [
       "<img src=\"xai_results/xai_exp_occlusion/xai_exp_occlusion_run92_index0_occluded0_image.png\" alt=\"xai_exp_occlusion\">"
      ],
      "text/plain": [
       "<IPython.core.display.HTML object>"
      ]
     },
     "metadata": {},
     "output_type": "display_data"
    },
    {
     "data": {
      "text/html": [
       "<img src=\"xai_results/xai_exp_occlusion/xai_exp_occlusion_run92_index0_occluded3_image.png\" alt=\"xai_exp_occlusion\">"
      ],
      "text/plain": [
       "<IPython.core.display.HTML object>"
      ]
     },
     "metadata": {},
     "output_type": "display_data"
    },
    {
     "data": {
      "text/html": [
       "<img src=\"xai_results/xai_exp_occlusion/xai_exp_occlusion_run92_index0_occluded12_image.png\" alt=\"xai_exp_occlusion\">"
      ],
      "text/plain": [
       "<IPython.core.display.HTML object>"
      ]
     },
     "metadata": {},
     "output_type": "display_data"
    },
    {
     "data": {
      "text/html": [
       "<img src=\"xai_results/xai_exp_occlusion/xai_exp_occlusion_run92_index0_occluded14_image.png\" alt=\"xai_exp_occlusion\">"
      ],
      "text/plain": [
       "<IPython.core.display.HTML object>"
      ]
     },
     "metadata": {},
     "output_type": "display_data"
    },
    {
     "data": {
      "text/html": [
       "<img src=\"xai_results/xai_exp_occlusion/compare_occlusion_exp_run92_index0.png\" alt=\"xai_exp_occlusion\">"
      ],
      "text/plain": [
       "<IPython.core.display.HTML object>"
      ]
     },
     "metadata": {},
     "output_type": "display_data"
    },
    {
     "data": {
      "text/html": [
       "<img src=\"xai_results/xai_exp_occlusion/xai_exp_occlusion_run92_index0_occluded7_image.png\" alt=\"xai_exp_occlusion\">"
      ],
      "text/plain": [
       "<IPython.core.display.HTML object>"
      ]
     },
     "metadata": {},
     "output_type": "display_data"
    },
    {
     "data": {
      "text/html": [
       "<img src=\"xai_results/xai_exp_occlusion/xai_exp_occlusion_run92_index0_occluded5_image.png\" alt=\"xai_exp_occlusion\">"
      ],
      "text/plain": [
       "<IPython.core.display.HTML object>"
      ]
     },
     "metadata": {},
     "output_type": "display_data"
    },
    {
     "data": {
      "text/html": [
       "<img src=\"xai_results/xai_exp_occlusion/occlusion_sensitivity_image.png\" alt=\"xai_exp_occlusion\">"
      ],
      "text/plain": [
       "<IPython.core.display.HTML object>"
      ]
     },
     "metadata": {},
     "output_type": "display_data"
    },
    {
     "data": {
      "text/html": [
       "<img src=\"xai_results/xai_exp_occlusion/xai_exp_occlusion_run92_index0_occluded13_image.png\" alt=\"xai_exp_occlusion\">"
      ],
      "text/plain": [
       "<IPython.core.display.HTML object>"
      ]
     },
     "metadata": {},
     "output_type": "display_data"
    },
    {
     "data": {
      "text/html": [
       "<img src=\"xai_results/xai_exp_occlusion/xai_exp_occlusion_run92_index0_occluded6_image.png\" alt=\"xai_exp_occlusion\">"
      ],
      "text/plain": [
       "<IPython.core.display.HTML object>"
      ]
     },
     "metadata": {},
     "output_type": "display_data"
    },
    {
     "data": {
      "text/html": [
       "<img src=\"xai_results/xai_exp_occlusion/xai_exp_occlusion_run92_index0_occluded4_image.png\" alt=\"xai_exp_occlusion\">"
      ],
      "text/plain": [
       "<IPython.core.display.HTML object>"
      ]
     },
     "metadata": {},
     "output_type": "display_data"
    },
    {
     "data": {
      "text/html": [
       "<img src=\"xai_results/xai_exp_occlusion/xai_exp_occlusion_run92_index0_occluded9_image.png\" alt=\"xai_exp_occlusion\">"
      ],
      "text/plain": [
       "<IPython.core.display.HTML object>"
      ]
     },
     "metadata": {},
     "output_type": "display_data"
    },
    {
     "data": {
      "text/html": [
       "<img src=\"xai_results/xai_exp_occlusion/xai_exp_occlusion_run92_index0_occluded11_image.png\" alt=\"xai_exp_occlusion\">"
      ],
      "text/plain": [
       "<IPython.core.display.HTML object>"
      ]
     },
     "metadata": {},
     "output_type": "display_data"
    },
    {
     "data": {
      "text/html": [
       "<img src=\"xai_results/xai_exp_occlusion/xai_exp_occlusion_run92_index0_occluded2_image.png\" alt=\"xai_exp_occlusion\">"
      ],
      "text/plain": [
       "<IPython.core.display.HTML object>"
      ]
     },
     "metadata": {},
     "output_type": "display_data"
    },
    {
     "data": {
      "text/html": [
       "<img src=\"xai_results/xai_exp_occlusion/xai_exp_occlusion_run92_index0_occluded1_image.png\" alt=\"xai_exp_occlusion\">"
      ],
      "text/plain": [
       "<IPython.core.display.HTML object>"
      ]
     },
     "metadata": {},
     "output_type": "display_data"
    },
    {
     "data": {
      "text/html": [
       "<img src=\"xai_results/xai_exp_occlusion/xai_exp_occlusion_run92_index0_occluded15_image.png\" alt=\"xai_exp_occlusion\">"
      ],
      "text/plain": [
       "<IPython.core.display.HTML object>"
      ]
     },
     "metadata": {},
     "output_type": "display_data"
    }
   ],
   "source": [
    "show_exp_html(xai_res_dir, exp_names[6])"
   ]
  }
 ],
 "metadata": {
  "kernelspec": {
   "display_name": "Python 3",
   "language": "python",
   "name": "python3"
  },
  "language_info": {
   "codemirror_mode": {
    "name": "ipython",
    "version": 3
   },
   "file_extension": ".py",
   "mimetype": "text/x-python",
   "name": "python",
   "nbconvert_exporter": "python",
   "pygments_lexer": "ipython3",
   "version": "3.6.5"
  }
 },
 "nbformat": 4,
 "nbformat_minor": 5
}
